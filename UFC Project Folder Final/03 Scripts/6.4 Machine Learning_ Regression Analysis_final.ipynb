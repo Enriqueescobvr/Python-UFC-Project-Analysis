{
 "cells": [
  {
   "cell_type": "markdown",
   "id": "94ae7a70",
   "metadata": {},
   "source": [
    "## 1. Importing Libraries"
   ]
  },
  {
   "cell_type": "code",
   "execution_count": 1,
   "id": "49e7172e",
   "metadata": {},
   "outputs": [],
   "source": [
    "#importing libraries and data\n",
    "\n",
    "import pandas as pd\n",
    "import numpy as np\n",
    "import seaborn as sns\n",
    "import matplotlib\n",
    "import matplotlib.pyplot as plt\n",
    "import os\n",
    "import sklearn\n",
    "from sklearn.model_selection import train_test_split \n",
    "from sklearn.linear_model import LinearRegression\n",
    "from sklearn.metrics import mean_squared_error, r2_score"
   ]
  },
  {
   "cell_type": "code",
   "execution_count": 2,
   "id": "90068fe2",
   "metadata": {},
   "outputs": [],
   "source": [
    "# This option ensures that the graphs you create are displayed within the notebook without the need to \"call\" them specifically.\n",
    "\n",
    "%matplotlib inline"
   ]
  },
  {
   "cell_type": "code",
   "execution_count": 3,
   "id": "0e5ab03f",
   "metadata": {},
   "outputs": [],
   "source": [
    "# creating path\n",
    "\n",
    "path = r'C:\\Users\\dequw\\Documents\\UFC Project Folder'"
   ]
  },
  {
   "cell_type": "code",
   "execution_count": 4,
   "id": "23503622",
   "metadata": {},
   "outputs": [],
   "source": [
    "#importing data set\n",
    "df_UFC = pd.read_csv(os.path.join(path, 'Prepared Data UFC', 'UFC_Prepared_Data.csv'), index_col = False)"
   ]
  },
  {
   "cell_type": "markdown",
   "id": "ab41dc8a",
   "metadata": {},
   "source": [
    "## 2.Data Cleaning"
   ]
  },
  {
   "cell_type": "code",
   "execution_count": 5,
   "id": "591549d2",
   "metadata": {},
   "outputs": [
    {
     "data": {
      "text/plain": [
       "Index(['Unnamed: 0', 'r_fighter', 'b_fighter', 'date_of_fight', 'location',\n",
       "       'winner', 'weight_class', 'b_wins', 'b_losses',\n",
       "       'b_win_by_decision_majority', 'b_win_by_decision_split',\n",
       "       'b_win_by_decision_unanimous', 'b_win_by_ko/tko', 'b_win_by_submission',\n",
       "       'b_win_by_tko_doctor_stoppage', 'b_stance', 'b_height_cms',\n",
       "       'b_Reach_cms', 'b_weight_lbs', 'r_wins', 'r_losses',\n",
       "       'r_win_by_decision_majority', 'r_win_by_decision_split',\n",
       "       'r_win_by_decision_unanimous', 'r_win_by_ko/tko', 'r_win_by_submission',\n",
       "       'r_win_by_tko_doctor_stoppage', 'r_stance', 'r_height_cms',\n",
       "       'r_Reach_cms', 'r_weight_lbs', 'b_age', 'r_age'],\n",
       "      dtype='object')"
      ]
     },
     "execution_count": 5,
     "metadata": {},
     "output_type": "execute_result"
    }
   ],
   "source": [
    "df_UFC.columns"
   ]
  },
  {
   "cell_type": "code",
   "execution_count": 6,
   "id": "0446b933",
   "metadata": {},
   "outputs": [
    {
     "data": {
      "text/html": [
       "<div>\n",
       "<style scoped>\n",
       "    .dataframe tbody tr th:only-of-type {\n",
       "        vertical-align: middle;\n",
       "    }\n",
       "\n",
       "    .dataframe tbody tr th {\n",
       "        vertical-align: top;\n",
       "    }\n",
       "\n",
       "    .dataframe thead th {\n",
       "        text-align: right;\n",
       "    }\n",
       "</style>\n",
       "<table border=\"1\" class=\"dataframe\">\n",
       "  <thead>\n",
       "    <tr style=\"text-align: right;\">\n",
       "      <th></th>\n",
       "      <th>Unnamed: 0</th>\n",
       "      <th>r_fighter</th>\n",
       "      <th>b_fighter</th>\n",
       "      <th>date_of_fight</th>\n",
       "      <th>location</th>\n",
       "      <th>winner</th>\n",
       "      <th>weight_class</th>\n",
       "      <th>b_wins</th>\n",
       "      <th>b_losses</th>\n",
       "      <th>b_win_by_decision_majority</th>\n",
       "      <th>...</th>\n",
       "      <th>r_win_by_decision_unanimous</th>\n",
       "      <th>r_win_by_ko/tko</th>\n",
       "      <th>r_win_by_submission</th>\n",
       "      <th>r_win_by_tko_doctor_stoppage</th>\n",
       "      <th>r_stance</th>\n",
       "      <th>r_height_cms</th>\n",
       "      <th>r_Reach_cms</th>\n",
       "      <th>r_weight_lbs</th>\n",
       "      <th>b_age</th>\n",
       "      <th>r_age</th>\n",
       "    </tr>\n",
       "  </thead>\n",
       "  <tbody>\n",
       "    <tr>\n",
       "      <th>0</th>\n",
       "      <td>0</td>\n",
       "      <td>Adrian Yanez</td>\n",
       "      <td>Gustavo Lopez</td>\n",
       "      <td>3/20/2021</td>\n",
       "      <td>Las Vegas, Nevada, USA</td>\n",
       "      <td>Red</td>\n",
       "      <td>Bantamweight</td>\n",
       "      <td>1</td>\n",
       "      <td>1</td>\n",
       "      <td>0</td>\n",
       "      <td>...</td>\n",
       "      <td>0</td>\n",
       "      <td>1</td>\n",
       "      <td>0</td>\n",
       "      <td>0</td>\n",
       "      <td>Orthodox</td>\n",
       "      <td>170.18</td>\n",
       "      <td>177.80</td>\n",
       "      <td>135.0</td>\n",
       "      <td>31.0</td>\n",
       "      <td>27.0</td>\n",
       "    </tr>\n",
       "    <tr>\n",
       "      <th>1</th>\n",
       "      <td>1</td>\n",
       "      <td>Trevin Giles</td>\n",
       "      <td>Roman Dolidze</td>\n",
       "      <td>3/20/2021</td>\n",
       "      <td>Las Vegas, Nevada, USA</td>\n",
       "      <td>Red</td>\n",
       "      <td>Middleweight</td>\n",
       "      <td>2</td>\n",
       "      <td>0</td>\n",
       "      <td>0</td>\n",
       "      <td>...</td>\n",
       "      <td>0</td>\n",
       "      <td>3</td>\n",
       "      <td>0</td>\n",
       "      <td>0</td>\n",
       "      <td>Orthodox</td>\n",
       "      <td>182.88</td>\n",
       "      <td>187.96</td>\n",
       "      <td>185.0</td>\n",
       "      <td>32.0</td>\n",
       "      <td>28.0</td>\n",
       "    </tr>\n",
       "    <tr>\n",
       "      <th>2</th>\n",
       "      <td>2</td>\n",
       "      <td>Tai Tuivasa</td>\n",
       "      <td>Harry Hunsucker</td>\n",
       "      <td>3/20/2021</td>\n",
       "      <td>Las Vegas, Nevada, USA</td>\n",
       "      <td>Red</td>\n",
       "      <td>Heavyweight</td>\n",
       "      <td>0</td>\n",
       "      <td>0</td>\n",
       "      <td>0</td>\n",
       "      <td>...</td>\n",
       "      <td>1</td>\n",
       "      <td>3</td>\n",
       "      <td>0</td>\n",
       "      <td>0</td>\n",
       "      <td>Southpaw</td>\n",
       "      <td>187.96</td>\n",
       "      <td>190.50</td>\n",
       "      <td>264.0</td>\n",
       "      <td>32.0</td>\n",
       "      <td>28.0</td>\n",
       "    </tr>\n",
       "    <tr>\n",
       "      <th>3</th>\n",
       "      <td>3</td>\n",
       "      <td>Cheyanne Buys</td>\n",
       "      <td>Montserrat Conejo</td>\n",
       "      <td>3/20/2021</td>\n",
       "      <td>Las Vegas, Nevada, USA</td>\n",
       "      <td>Blue</td>\n",
       "      <td>WomenStrawweight</td>\n",
       "      <td>0</td>\n",
       "      <td>0</td>\n",
       "      <td>0</td>\n",
       "      <td>...</td>\n",
       "      <td>0</td>\n",
       "      <td>0</td>\n",
       "      <td>0</td>\n",
       "      <td>0</td>\n",
       "      <td>Switch</td>\n",
       "      <td>160.02</td>\n",
       "      <td>160.02</td>\n",
       "      <td>115.0</td>\n",
       "      <td>28.0</td>\n",
       "      <td>25.0</td>\n",
       "    </tr>\n",
       "    <tr>\n",
       "      <th>4</th>\n",
       "      <td>4</td>\n",
       "      <td>Marion Reneau</td>\n",
       "      <td>Macy Chiasson</td>\n",
       "      <td>3/20/2021</td>\n",
       "      <td>Las Vegas, Nevada, USA</td>\n",
       "      <td>Blue</td>\n",
       "      <td>WomenBantamweight</td>\n",
       "      <td>4</td>\n",
       "      <td>1</td>\n",
       "      <td>0</td>\n",
       "      <td>...</td>\n",
       "      <td>1</td>\n",
       "      <td>2</td>\n",
       "      <td>2</td>\n",
       "      <td>0</td>\n",
       "      <td>Orthodox</td>\n",
       "      <td>167.64</td>\n",
       "      <td>172.72</td>\n",
       "      <td>135.0</td>\n",
       "      <td>29.0</td>\n",
       "      <td>43.0</td>\n",
       "    </tr>\n",
       "    <tr>\n",
       "      <th>5</th>\n",
       "      <td>5</td>\n",
       "      <td>Leonardo Santos</td>\n",
       "      <td>Grant Dawson</td>\n",
       "      <td>3/20/2021</td>\n",
       "      <td>Las Vegas, Nevada, USA</td>\n",
       "      <td>Blue</td>\n",
       "      <td>Lightweight</td>\n",
       "      <td>4</td>\n",
       "      <td>0</td>\n",
       "      <td>0</td>\n",
       "      <td>...</td>\n",
       "      <td>2</td>\n",
       "      <td>2</td>\n",
       "      <td>2</td>\n",
       "      <td>0</td>\n",
       "      <td>Orthodox</td>\n",
       "      <td>182.88</td>\n",
       "      <td>190.50</td>\n",
       "      <td>155.0</td>\n",
       "      <td>27.0</td>\n",
       "      <td>41.0</td>\n",
       "    </tr>\n",
       "    <tr>\n",
       "      <th>6</th>\n",
       "      <td>6</td>\n",
       "      <td>Song Kenan</td>\n",
       "      <td>Max Griffin</td>\n",
       "      <td>3/20/2021</td>\n",
       "      <td>Las Vegas, Nevada, USA</td>\n",
       "      <td>Blue</td>\n",
       "      <td>Welterweight</td>\n",
       "      <td>4</td>\n",
       "      <td>6</td>\n",
       "      <td>1</td>\n",
       "      <td>...</td>\n",
       "      <td>1</td>\n",
       "      <td>3</td>\n",
       "      <td>0</td>\n",
       "      <td>0</td>\n",
       "      <td>Orthodox</td>\n",
       "      <td>182.88</td>\n",
       "      <td>180.34</td>\n",
       "      <td>170.0</td>\n",
       "      <td>35.0</td>\n",
       "      <td>31.0</td>\n",
       "    </tr>\n",
       "    <tr>\n",
       "      <th>7</th>\n",
       "      <td>7</td>\n",
       "      <td>Derek Brunson</td>\n",
       "      <td>Kevin Holland</td>\n",
       "      <td>3/20/2021</td>\n",
       "      <td>Las Vegas, Nevada, USA</td>\n",
       "      <td>Red</td>\n",
       "      <td>Middleweight</td>\n",
       "      <td>8</td>\n",
       "      <td>2</td>\n",
       "      <td>0</td>\n",
       "      <td>...</td>\n",
       "      <td>4</td>\n",
       "      <td>7</td>\n",
       "      <td>1</td>\n",
       "      <td>0</td>\n",
       "      <td>Southpaw</td>\n",
       "      <td>185.42</td>\n",
       "      <td>195.58</td>\n",
       "      <td>185.0</td>\n",
       "      <td>28.0</td>\n",
       "      <td>37.0</td>\n",
       "    </tr>\n",
       "    <tr>\n",
       "      <th>8</th>\n",
       "      <td>8</td>\n",
       "      <td>Montel Jackson</td>\n",
       "      <td>Jesse Strader</td>\n",
       "      <td>3/20/2021</td>\n",
       "      <td>Las Vegas, Nevada, USA</td>\n",
       "      <td>Red</td>\n",
       "      <td>Bantamweight</td>\n",
       "      <td>0</td>\n",
       "      <td>0</td>\n",
       "      <td>0</td>\n",
       "      <td>...</td>\n",
       "      <td>2</td>\n",
       "      <td>0</td>\n",
       "      <td>1</td>\n",
       "      <td>0</td>\n",
       "      <td>Southpaw</td>\n",
       "      <td>177.80</td>\n",
       "      <td>190.50</td>\n",
       "      <td>135.0</td>\n",
       "      <td>29.0</td>\n",
       "      <td>28.0</td>\n",
       "    </tr>\n",
       "    <tr>\n",
       "      <th>9</th>\n",
       "      <td>10</td>\n",
       "      <td>Manel Kape</td>\n",
       "      <td>Matheus Nicolau</td>\n",
       "      <td>3/13/2021</td>\n",
       "      <td>Las Vegas, Nevada, USA</td>\n",
       "      <td>Blue</td>\n",
       "      <td>Flyweight</td>\n",
       "      <td>3</td>\n",
       "      <td>1</td>\n",
       "      <td>0</td>\n",
       "      <td>...</td>\n",
       "      <td>0</td>\n",
       "      <td>0</td>\n",
       "      <td>0</td>\n",
       "      <td>0</td>\n",
       "      <td>Southpaw</td>\n",
       "      <td>165.10</td>\n",
       "      <td>172.72</td>\n",
       "      <td>125.0</td>\n",
       "      <td>28.0</td>\n",
       "      <td>27.0</td>\n",
       "    </tr>\n",
       "    <tr>\n",
       "      <th>10</th>\n",
       "      <td>11</td>\n",
       "      <td>Misha Cirkunov</td>\n",
       "      <td>Ryan Spann</td>\n",
       "      <td>3/13/2021</td>\n",
       "      <td>Las Vegas, Nevada, USA</td>\n",
       "      <td>Blue</td>\n",
       "      <td>LightHeavyweight</td>\n",
       "      <td>4</td>\n",
       "      <td>1</td>\n",
       "      <td>0</td>\n",
       "      <td>...</td>\n",
       "      <td>0</td>\n",
       "      <td>1</td>\n",
       "      <td>5</td>\n",
       "      <td>0</td>\n",
       "      <td>Orthodox</td>\n",
       "      <td>190.50</td>\n",
       "      <td>195.58</td>\n",
       "      <td>205.0</td>\n",
       "      <td>29.0</td>\n",
       "      <td>34.0</td>\n",
       "    </tr>\n",
       "    <tr>\n",
       "      <th>11</th>\n",
       "      <td>12</td>\n",
       "      <td>Leon Edwards</td>\n",
       "      <td>Belal Muhammad</td>\n",
       "      <td>3/13/2021</td>\n",
       "      <td>Las Vegas, Nevada, USA</td>\n",
       "      <td>Draw</td>\n",
       "      <td>Welterweight</td>\n",
       "      <td>9</td>\n",
       "      <td>3</td>\n",
       "      <td>0</td>\n",
       "      <td>...</td>\n",
       "      <td>6</td>\n",
       "      <td>2</td>\n",
       "      <td>1</td>\n",
       "      <td>0</td>\n",
       "      <td>Southpaw</td>\n",
       "      <td>187.96</td>\n",
       "      <td>187.96</td>\n",
       "      <td>170.0</td>\n",
       "      <td>32.0</td>\n",
       "      <td>29.0</td>\n",
       "    </tr>\n",
       "    <tr>\n",
       "      <th>12</th>\n",
       "      <td>13</td>\n",
       "      <td>Charles Jourdain</td>\n",
       "      <td>Marcelo Rojo</td>\n",
       "      <td>3/13/2021</td>\n",
       "      <td>Las Vegas, Nevada, USA</td>\n",
       "      <td>Red</td>\n",
       "      <td>Featherweight</td>\n",
       "      <td>0</td>\n",
       "      <td>0</td>\n",
       "      <td>0</td>\n",
       "      <td>...</td>\n",
       "      <td>0</td>\n",
       "      <td>1</td>\n",
       "      <td>0</td>\n",
       "      <td>0</td>\n",
       "      <td>Switch</td>\n",
       "      <td>175.26</td>\n",
       "      <td>175.26</td>\n",
       "      <td>145.0</td>\n",
       "      <td>32.0</td>\n",
       "      <td>25.0</td>\n",
       "    </tr>\n",
       "    <tr>\n",
       "      <th>13</th>\n",
       "      <td>14</td>\n",
       "      <td>Eryk Anders</td>\n",
       "      <td>Darren Stewart</td>\n",
       "      <td>3/13/2021</td>\n",
       "      <td>Las Vegas, Nevada, USA</td>\n",
       "      <td>Draw</td>\n",
       "      <td>Middleweight</td>\n",
       "      <td>5</td>\n",
       "      <td>6</td>\n",
       "      <td>0</td>\n",
       "      <td>...</td>\n",
       "      <td>1</td>\n",
       "      <td>3</td>\n",
       "      <td>0</td>\n",
       "      <td>0</td>\n",
       "      <td>Southpaw</td>\n",
       "      <td>185.42</td>\n",
       "      <td>190.50</td>\n",
       "      <td>185.0</td>\n",
       "      <td>30.0</td>\n",
       "      <td>33.0</td>\n",
       "    </tr>\n",
       "    <tr>\n",
       "      <th>14</th>\n",
       "      <td>15</td>\n",
       "      <td>Angela Hill</td>\n",
       "      <td>Ashley Yoder</td>\n",
       "      <td>3/13/2021</td>\n",
       "      <td>Las Vegas, Nevada, USA</td>\n",
       "      <td>Red</td>\n",
       "      <td>WomenStrawweight</td>\n",
       "      <td>3</td>\n",
       "      <td>5</td>\n",
       "      <td>0</td>\n",
       "      <td>...</td>\n",
       "      <td>5</td>\n",
       "      <td>1</td>\n",
       "      <td>0</td>\n",
       "      <td>1</td>\n",
       "      <td>Orthodox</td>\n",
       "      <td>160.02</td>\n",
       "      <td>162.56</td>\n",
       "      <td>115.0</td>\n",
       "      <td>33.0</td>\n",
       "      <td>36.0</td>\n",
       "    </tr>\n",
       "    <tr>\n",
       "      <th>15</th>\n",
       "      <td>16</td>\n",
       "      <td>Jonathan Martinez</td>\n",
       "      <td>Davey Grant</td>\n",
       "      <td>3/13/2021</td>\n",
       "      <td>Las Vegas, Nevada, USA</td>\n",
       "      <td>Blue</td>\n",
       "      <td>Bantamweight</td>\n",
       "      <td>3</td>\n",
       "      <td>3</td>\n",
       "      <td>0</td>\n",
       "      <td>...</td>\n",
       "      <td>2</td>\n",
       "      <td>2</td>\n",
       "      <td>0</td>\n",
       "      <td>0</td>\n",
       "      <td>Southpaw</td>\n",
       "      <td>172.72</td>\n",
       "      <td>177.80</td>\n",
       "      <td>135.0</td>\n",
       "      <td>35.0</td>\n",
       "      <td>26.0</td>\n",
       "    </tr>\n",
       "    <tr>\n",
       "      <th>16</th>\n",
       "      <td>17</td>\n",
       "      <td>Dan Ige</td>\n",
       "      <td>Gavin Tucker</td>\n",
       "      <td>3/13/2021</td>\n",
       "      <td>Las Vegas, Nevada, USA</td>\n",
       "      <td>Red</td>\n",
       "      <td>Featherweight</td>\n",
       "      <td>4</td>\n",
       "      <td>1</td>\n",
       "      <td>0</td>\n",
       "      <td>...</td>\n",
       "      <td>2</td>\n",
       "      <td>1</td>\n",
       "      <td>1</td>\n",
       "      <td>0</td>\n",
       "      <td>Orthodox</td>\n",
       "      <td>170.18</td>\n",
       "      <td>180.34</td>\n",
       "      <td>145.0</td>\n",
       "      <td>34.0</td>\n",
       "      <td>29.0</td>\n",
       "    </tr>\n",
       "    <tr>\n",
       "      <th>17</th>\n",
       "      <td>18</td>\n",
       "      <td>Nasrat Haqparast</td>\n",
       "      <td>Rafa Garcia</td>\n",
       "      <td>3/13/2021</td>\n",
       "      <td>Las Vegas, Nevada, USA</td>\n",
       "      <td>Red</td>\n",
       "      <td>Lightweight</td>\n",
       "      <td>0</td>\n",
       "      <td>0</td>\n",
       "      <td>0</td>\n",
       "      <td>...</td>\n",
       "      <td>3</td>\n",
       "      <td>1</td>\n",
       "      <td>0</td>\n",
       "      <td>0</td>\n",
       "      <td>Southpaw</td>\n",
       "      <td>177.80</td>\n",
       "      <td>182.88</td>\n",
       "      <td>155.0</td>\n",
       "      <td>26.0</td>\n",
       "      <td>25.0</td>\n",
       "    </tr>\n",
       "    <tr>\n",
       "      <th>18</th>\n",
       "      <td>19</td>\n",
       "      <td>Cortney Casey</td>\n",
       "      <td>JJ Aldrich</td>\n",
       "      <td>3/13/2021</td>\n",
       "      <td>Las Vegas, Nevada, USA</td>\n",
       "      <td>Blue</td>\n",
       "      <td>WomenFlyweight</td>\n",
       "      <td>4</td>\n",
       "      <td>3</td>\n",
       "      <td>0</td>\n",
       "      <td>...</td>\n",
       "      <td>1</td>\n",
       "      <td>1</td>\n",
       "      <td>2</td>\n",
       "      <td>0</td>\n",
       "      <td>Orthodox</td>\n",
       "      <td>170.18</td>\n",
       "      <td>170.18</td>\n",
       "      <td>125.0</td>\n",
       "      <td>28.0</td>\n",
       "      <td>33.0</td>\n",
       "    </tr>\n",
       "    <tr>\n",
       "      <th>19</th>\n",
       "      <td>20</td>\n",
       "      <td>Matthew Semelsberger</td>\n",
       "      <td>Jason Witt</td>\n",
       "      <td>3/13/2021</td>\n",
       "      <td>Las Vegas, Nevada, USA</td>\n",
       "      <td>Red</td>\n",
       "      <td>Welterweight</td>\n",
       "      <td>1</td>\n",
       "      <td>1</td>\n",
       "      <td>0</td>\n",
       "      <td>...</td>\n",
       "      <td>1</td>\n",
       "      <td>0</td>\n",
       "      <td>0</td>\n",
       "      <td>0</td>\n",
       "      <td>Switch</td>\n",
       "      <td>185.42</td>\n",
       "      <td>190.50</td>\n",
       "      <td>170.0</td>\n",
       "      <td>34.0</td>\n",
       "      <td>28.0</td>\n",
       "    </tr>\n",
       "  </tbody>\n",
       "</table>\n",
       "<p>20 rows × 33 columns</p>\n",
       "</div>"
      ],
      "text/plain": [
       "    Unnamed: 0             r_fighter          b_fighter date_of_fight  \\\n",
       "0            0          Adrian Yanez      Gustavo Lopez     3/20/2021   \n",
       "1            1          Trevin Giles      Roman Dolidze     3/20/2021   \n",
       "2            2           Tai Tuivasa    Harry Hunsucker     3/20/2021   \n",
       "3            3         Cheyanne Buys  Montserrat Conejo     3/20/2021   \n",
       "4            4         Marion Reneau      Macy Chiasson     3/20/2021   \n",
       "5            5       Leonardo Santos       Grant Dawson     3/20/2021   \n",
       "6            6            Song Kenan        Max Griffin     3/20/2021   \n",
       "7            7         Derek Brunson      Kevin Holland     3/20/2021   \n",
       "8            8        Montel Jackson      Jesse Strader     3/20/2021   \n",
       "9           10            Manel Kape    Matheus Nicolau     3/13/2021   \n",
       "10          11        Misha Cirkunov         Ryan Spann     3/13/2021   \n",
       "11          12          Leon Edwards     Belal Muhammad     3/13/2021   \n",
       "12          13      Charles Jourdain       Marcelo Rojo     3/13/2021   \n",
       "13          14           Eryk Anders     Darren Stewart     3/13/2021   \n",
       "14          15           Angela Hill       Ashley Yoder     3/13/2021   \n",
       "15          16     Jonathan Martinez        Davey Grant     3/13/2021   \n",
       "16          17               Dan Ige       Gavin Tucker     3/13/2021   \n",
       "17          18      Nasrat Haqparast        Rafa Garcia     3/13/2021   \n",
       "18          19         Cortney Casey         JJ Aldrich     3/13/2021   \n",
       "19          20  Matthew Semelsberger         Jason Witt     3/13/2021   \n",
       "\n",
       "                  location winner       weight_class  b_wins  b_losses  \\\n",
       "0   Las Vegas, Nevada, USA    Red       Bantamweight       1         1   \n",
       "1   Las Vegas, Nevada, USA    Red       Middleweight       2         0   \n",
       "2   Las Vegas, Nevada, USA    Red        Heavyweight       0         0   \n",
       "3   Las Vegas, Nevada, USA   Blue   WomenStrawweight       0         0   \n",
       "4   Las Vegas, Nevada, USA   Blue  WomenBantamweight       4         1   \n",
       "5   Las Vegas, Nevada, USA   Blue        Lightweight       4         0   \n",
       "6   Las Vegas, Nevada, USA   Blue       Welterweight       4         6   \n",
       "7   Las Vegas, Nevada, USA    Red       Middleweight       8         2   \n",
       "8   Las Vegas, Nevada, USA    Red       Bantamweight       0         0   \n",
       "9   Las Vegas, Nevada, USA   Blue          Flyweight       3         1   \n",
       "10  Las Vegas, Nevada, USA   Blue   LightHeavyweight       4         1   \n",
       "11  Las Vegas, Nevada, USA   Draw       Welterweight       9         3   \n",
       "12  Las Vegas, Nevada, USA    Red      Featherweight       0         0   \n",
       "13  Las Vegas, Nevada, USA   Draw       Middleweight       5         6   \n",
       "14  Las Vegas, Nevada, USA    Red   WomenStrawweight       3         5   \n",
       "15  Las Vegas, Nevada, USA   Blue       Bantamweight       3         3   \n",
       "16  Las Vegas, Nevada, USA    Red      Featherweight       4         1   \n",
       "17  Las Vegas, Nevada, USA    Red        Lightweight       0         0   \n",
       "18  Las Vegas, Nevada, USA   Blue     WomenFlyweight       4         3   \n",
       "19  Las Vegas, Nevada, USA    Red       Welterweight       1         1   \n",
       "\n",
       "    b_win_by_decision_majority  ...  r_win_by_decision_unanimous  \\\n",
       "0                            0  ...                            0   \n",
       "1                            0  ...                            0   \n",
       "2                            0  ...                            1   \n",
       "3                            0  ...                            0   \n",
       "4                            0  ...                            1   \n",
       "5                            0  ...                            2   \n",
       "6                            1  ...                            1   \n",
       "7                            0  ...                            4   \n",
       "8                            0  ...                            2   \n",
       "9                            0  ...                            0   \n",
       "10                           0  ...                            0   \n",
       "11                           0  ...                            6   \n",
       "12                           0  ...                            0   \n",
       "13                           0  ...                            1   \n",
       "14                           0  ...                            5   \n",
       "15                           0  ...                            2   \n",
       "16                           0  ...                            2   \n",
       "17                           0  ...                            3   \n",
       "18                           0  ...                            1   \n",
       "19                           0  ...                            1   \n",
       "\n",
       "    r_win_by_ko/tko  r_win_by_submission  r_win_by_tko_doctor_stoppage  \\\n",
       "0                 1                    0                             0   \n",
       "1                 3                    0                             0   \n",
       "2                 3                    0                             0   \n",
       "3                 0                    0                             0   \n",
       "4                 2                    2                             0   \n",
       "5                 2                    2                             0   \n",
       "6                 3                    0                             0   \n",
       "7                 7                    1                             0   \n",
       "8                 0                    1                             0   \n",
       "9                 0                    0                             0   \n",
       "10                1                    5                             0   \n",
       "11                2                    1                             0   \n",
       "12                1                    0                             0   \n",
       "13                3                    0                             0   \n",
       "14                1                    0                             1   \n",
       "15                2                    0                             0   \n",
       "16                1                    1                             0   \n",
       "17                1                    0                             0   \n",
       "18                1                    2                             0   \n",
       "19                0                    0                             0   \n",
       "\n",
       "    r_stance r_height_cms  r_Reach_cms  r_weight_lbs  b_age  r_age  \n",
       "0   Orthodox       170.18       177.80         135.0   31.0   27.0  \n",
       "1   Orthodox       182.88       187.96         185.0   32.0   28.0  \n",
       "2   Southpaw       187.96       190.50         264.0   32.0   28.0  \n",
       "3     Switch       160.02       160.02         115.0   28.0   25.0  \n",
       "4   Orthodox       167.64       172.72         135.0   29.0   43.0  \n",
       "5   Orthodox       182.88       190.50         155.0   27.0   41.0  \n",
       "6   Orthodox       182.88       180.34         170.0   35.0   31.0  \n",
       "7   Southpaw       185.42       195.58         185.0   28.0   37.0  \n",
       "8   Southpaw       177.80       190.50         135.0   29.0   28.0  \n",
       "9   Southpaw       165.10       172.72         125.0   28.0   27.0  \n",
       "10  Orthodox       190.50       195.58         205.0   29.0   34.0  \n",
       "11  Southpaw       187.96       187.96         170.0   32.0   29.0  \n",
       "12    Switch       175.26       175.26         145.0   32.0   25.0  \n",
       "13  Southpaw       185.42       190.50         185.0   30.0   33.0  \n",
       "14  Orthodox       160.02       162.56         115.0   33.0   36.0  \n",
       "15  Southpaw       172.72       177.80         135.0   35.0   26.0  \n",
       "16  Orthodox       170.18       180.34         145.0   34.0   29.0  \n",
       "17  Southpaw       177.80       182.88         155.0   26.0   25.0  \n",
       "18  Orthodox       170.18       170.18         125.0   28.0   33.0  \n",
       "19    Switch       185.42       190.50         170.0   34.0   28.0  \n",
       "\n",
       "[20 rows x 33 columns]"
      ]
     },
     "execution_count": 6,
     "metadata": {},
     "output_type": "execute_result"
    }
   ],
   "source": [
    "df_UFC.head(20)"
   ]
  },
  {
   "cell_type": "code",
   "execution_count": 7,
   "id": "ffe68da9",
   "metadata": {},
   "outputs": [
    {
     "data": {
      "text/plain": [
       "(4954, 33)"
      ]
     },
     "execution_count": 7,
     "metadata": {},
     "output_type": "execute_result"
    }
   ],
   "source": [
    "df_UFC.shape"
   ]
  },
  {
   "cell_type": "markdown",
   "id": "3c3f8e21",
   "metadata": {},
   "source": [
    "## Missing Values"
   ]
  },
  {
   "cell_type": "code",
   "execution_count": 8,
   "id": "d15ae0e9",
   "metadata": {},
   "outputs": [
    {
     "data": {
      "text/plain": [
       "Unnamed: 0                      0\n",
       "r_fighter                       0\n",
       "b_fighter                       0\n",
       "date_of_fight                   0\n",
       "location                        0\n",
       "winner                          0\n",
       "weight_class                    0\n",
       "b_wins                          0\n",
       "b_losses                        0\n",
       "b_win_by_decision_majority      0\n",
       "b_win_by_decision_split         0\n",
       "b_win_by_decision_unanimous     0\n",
       "b_win_by_ko/tko                 0\n",
       "b_win_by_submission             0\n",
       "b_win_by_tko_doctor_stoppage    0\n",
       "b_stance                        5\n",
       "b_height_cms                    0\n",
       "b_Reach_cms                     0\n",
       "b_weight_lbs                    0\n",
       "r_wins                          0\n",
       "r_losses                        0\n",
       "r_win_by_decision_majority      0\n",
       "r_win_by_decision_split         0\n",
       "r_win_by_decision_unanimous     0\n",
       "r_win_by_ko/tko                 0\n",
       "r_win_by_submission             0\n",
       "r_win_by_tko_doctor_stoppage    0\n",
       "r_stance                        4\n",
       "r_height_cms                    0\n",
       "r_Reach_cms                     0\n",
       "r_weight_lbs                    0\n",
       "b_age                           0\n",
       "r_age                           0\n",
       "dtype: int64"
      ]
     },
     "execution_count": 8,
     "metadata": {},
     "output_type": "execute_result"
    }
   ],
   "source": [
    "# Check for missing values\n",
    "\n",
    "df_UFC.isnull().sum()\n",
    "\n",
    "# No missing values to handle"
   ]
  },
  {
   "cell_type": "markdown",
   "id": "63dbcbb7",
   "metadata": {},
   "source": [
    "##### Duplicates check"
   ]
  },
  {
   "cell_type": "code",
   "execution_count": 9,
   "id": "d2242ac7",
   "metadata": {},
   "outputs": [],
   "source": [
    "dups = df_UFC.duplicated()"
   ]
  },
  {
   "cell_type": "code",
   "execution_count": 10,
   "id": "d653d4c7",
   "metadata": {},
   "outputs": [
    {
     "data": {
      "text/plain": [
       "(4954,)"
      ]
     },
     "execution_count": 10,
     "metadata": {},
     "output_type": "execute_result"
    }
   ],
   "source": [
    "dups.shape # No dups"
   ]
  },
  {
   "cell_type": "markdown",
   "id": "26f1f62c",
   "metadata": {},
   "source": [
    "##### Extreme values checks"
   ]
  },
  {
   "cell_type": "code",
   "execution_count": 11,
   "id": "25f1dbdb",
   "metadata": {},
   "outputs": [
    {
     "name": "stderr",
     "output_type": "stream",
     "text": [
      "C:\\Users\\dequw\\AppData\\Local\\Temp\\ipykernel_8740\\1922259936.py:1: UserWarning: \n",
      "\n",
      "`distplot` is a deprecated function and will be removed in seaborn v0.14.0.\n",
      "\n",
      "Please adapt your code to use either `displot` (a figure-level function with\n",
      "similar flexibility) or `histplot` (an axes-level function for histograms).\n",
      "\n",
      "For a guide to updating your code to use the new functions, please see\n",
      "https://gist.github.com/mwaskom/de44147ed2974457ad6372750bbe5751\n",
      "\n",
      "  sns.distplot(df_UFC['r_wins'], bins=25) # Shows extreme values\n",
      "C:\\Users\\dequw\\anaconda3\\Lib\\site-packages\\seaborn\\_oldcore.py:1498: FutureWarning: is_categorical_dtype is deprecated and will be removed in a future version. Use isinstance(dtype, CategoricalDtype) instead\n",
      "  if pd.api.types.is_categorical_dtype(vector):\n",
      "C:\\Users\\dequw\\anaconda3\\Lib\\site-packages\\seaborn\\_oldcore.py:1119: FutureWarning: use_inf_as_na option is deprecated and will be removed in a future version. Convert inf values to NaN before operating instead.\n",
      "  with pd.option_context('mode.use_inf_as_na', True):\n"
     ]
    },
    {
     "data": {
      "text/plain": [
       "<Axes: xlabel='r_wins', ylabel='Density'>"
      ]
     },
     "execution_count": 11,
     "metadata": {},
     "output_type": "execute_result"
    },
    {
     "data": {
      "image/png": "[encoded data removed]",
      "text/plain": [
       "<Figure size 640x480 with 1 Axes>"
      ]
     },
     "metadata": {},
     "output_type": "display_data"
    }
   ],
   "source": [
    "sns.distplot(df_UFC['r_wins'], bins=25) # Shows extreme values\n",
    "\n",
    "# Some of the outliers in the high values may need to be removed, but let's try without doing so first."
   ]
  },
  {
   "cell_type": "code",
   "execution_count": 12,
   "id": "3e528351",
   "metadata": {
    "scrolled": true
   },
   "outputs": [
    {
     "name": "stderr",
     "output_type": "stream",
     "text": [
      "C:\\Users\\dequw\\AppData\\Local\\Temp\\ipykernel_8740\\518808548.py:1: UserWarning: \n",
      "\n",
      "`distplot` is a deprecated function and will be removed in seaborn v0.14.0.\n",
      "\n",
      "Please adapt your code to use either `displot` (a figure-level function with\n",
      "similar flexibility) or `histplot` (an axes-level function for histograms).\n",
      "\n",
      "For a guide to updating your code to use the new functions, please see\n",
      "https://gist.github.com/mwaskom/de44147ed2974457ad6372750bbe5751\n",
      "\n",
      "  sns.distplot(df_UFC['b_wins'], bins=25) # Shows extreme values\n",
      "C:\\Users\\dequw\\anaconda3\\Lib\\site-packages\\seaborn\\_oldcore.py:1498: FutureWarning: is_categorical_dtype is deprecated and will be removed in a future version. Use isinstance(dtype, CategoricalDtype) instead\n",
      "  if pd.api.types.is_categorical_dtype(vector):\n",
      "C:\\Users\\dequw\\anaconda3\\Lib\\site-packages\\seaborn\\_oldcore.py:1119: FutureWarning: use_inf_as_na option is deprecated and will be removed in a future version. Convert inf values to NaN before operating instead.\n",
      "  with pd.option_context('mode.use_inf_as_na', True):\n"
     ]
    },
    {
     "data": {
      "text/plain": [
       "<Axes: xlabel='b_wins', ylabel='Density'>"
      ]
     },
     "execution_count": 12,
     "metadata": {},
     "output_type": "execute_result"
    },
    {
     "data": {
      "image/png": "[encoded data removed]",
      "text/plain": [
       "<Figure size 640x480 with 1 Axes>"
      ]
     },
     "metadata": {},
     "output_type": "display_data"
    }
   ],
   "source": [
    "sns.distplot(df_UFC['b_wins'], bins=25) # Shows extreme values\n",
    "\n",
    "# Some of the outliers in the high values may need to be removed, but let's try without doing so first."
   ]
  },
  {
   "cell_type": "code",
   "execution_count": 13,
   "id": "da1c90d0",
   "metadata": {},
   "outputs": [
    {
     "data": {
      "text/plain": [
       "4.276342349616471"
      ]
     },
     "execution_count": 13,
     "metadata": {},
     "output_type": "execute_result"
    }
   ],
   "source": [
    "df_UFC['r_wins'].mean() # Check the mean"
   ]
  },
  {
   "cell_type": "code",
   "execution_count": 14,
   "id": "ab6ad207",
   "metadata": {},
   "outputs": [
    {
     "data": {
      "text/plain": [
       "3.0"
      ]
     },
     "execution_count": 14,
     "metadata": {},
     "output_type": "execute_result"
    }
   ],
   "source": [
    "df_UFC['r_wins'].median() # Check the median"
   ]
  },
  {
   "cell_type": "code",
   "execution_count": 15,
   "id": "b38986a8",
   "metadata": {},
   "outputs": [
    {
     "data": {
      "text/plain": [
       "23"
      ]
     },
     "execution_count": 15,
     "metadata": {},
     "output_type": "execute_result"
    }
   ],
   "source": [
    "df_UFC['r_wins'].max() # Check the max"
   ]
  },
  {
   "cell_type": "code",
   "execution_count": 16,
   "id": "ff02d7b7",
   "metadata": {},
   "outputs": [
    {
     "data": {
      "text/plain": [
       "3.0159467097295116"
      ]
     },
     "execution_count": 16,
     "metadata": {},
     "output_type": "execute_result"
    }
   ],
   "source": [
    "df_UFC['b_wins'].mean() # Check the mean"
   ]
  },
  {
   "cell_type": "code",
   "execution_count": 17,
   "id": "31e994c9",
   "metadata": {},
   "outputs": [
    {
     "data": {
      "text/plain": [
       "2.0"
      ]
     },
     "execution_count": 17,
     "metadata": {},
     "output_type": "execute_result"
    }
   ],
   "source": [
    "df_UFC['b_wins'].median() # Check the median"
   ]
  },
  {
   "cell_type": "code",
   "execution_count": 18,
   "id": "9a2bf050",
   "metadata": {},
   "outputs": [
    {
     "data": {
      "text/plain": [
       "23"
      ]
     },
     "execution_count": 18,
     "metadata": {},
     "output_type": "execute_result"
    }
   ],
   "source": [
    "df_UFC['b_wins'].max() # Check the max"
   ]
  },
  {
   "cell_type": "markdown",
   "id": "2e29c2a3",
   "metadata": {},
   "source": [
    "### 3. Data prep for regression analysis "
   ]
  },
  {
   "cell_type": "code",
   "execution_count": 19,
   "id": "9b74509a",
   "metadata": {},
   "outputs": [
    {
     "data": {
      "image/png": "[encoded data removed]",
      "text/plain": [
       "<Figure size 640x480 with 1 Axes>"
      ]
     },
     "metadata": {},
     "output_type": "display_data"
    }
   ],
   "source": [
    "# Create a scatterplot using matplotlib for another look at how the chosen variables plot against each other.\n",
    "\n",
    "df_UFC.plot(x = 'b_wins', y='b_weight_lbs',style='o') # The style option creates a scatterplot; without it, we only have lines.\n",
    "plt.title('b_wins vs b_weight_lbs')  \n",
    "plt.xlabel('b_wins')  \n",
    "plt.ylabel('b_weight_lbs')  \n",
    "plt.show()"
   ]
  },
  {
   "cell_type": "markdown",
   "id": "45b93fee",
   "metadata": {},
   "source": [
    "# 5.The heavier the b fighter (over 160), the more wins they have."
   ]
  },
  {
   "cell_type": "code",
   "execution_count": 20,
   "id": "7b204c16",
   "metadata": {},
   "outputs": [
    {
     "data": {
      "image/png": "[encoded data removed]",
      "text/plain": [
       "<Figure size 640x480 with 1 Axes>"
      ]
     },
     "metadata": {},
     "output_type": "display_data"
    }
   ],
   "source": [
    "# Create a scatterplot using matplotlib for another look at how the chosen variables plot against each other.\n",
    "\n",
    "df_UFC.plot(x = 'r_wins', y='r_height_cms',style='o') # The style option creates a scatterplot; without it, we only have lines.\n",
    "plt.title('r_wins vs r_height_cms')  \n",
    "plt.xlabel('r_wins')  \n",
    "plt.ylabel('r_height_cms')  \n",
    "plt.show()"
   ]
  },
  {
   "cell_type": "markdown",
   "id": "ee51c09f",
   "metadata": {},
   "source": [
    "If the r fighter is taller than 165 cms, they have a higher chance of winning"
   ]
  },
  {
   "cell_type": "code",
   "execution_count": 21,
   "id": "98022fa1",
   "metadata": {},
   "outputs": [],
   "source": [
    "# Reshape the variables into NumPy arrays and put them into separate objects.\n",
    "\n",
    "X = df_UFC['b_wins'].values.reshape(-1,1)\n",
    "y = df_UFC['b_weight_lbs'].values.reshape(-1,1)"
   ]
  },
  {
   "cell_type": "code",
   "execution_count": 22,
   "id": "bfeade4c",
   "metadata": {},
   "outputs": [
    {
     "data": {
      "text/plain": [
       "array([[1],\n",
       "       [2],\n",
       "       [0],\n",
       "       ...,\n",
       "       [1],\n",
       "       [0],\n",
       "       [3]], dtype=int64)"
      ]
     },
     "execution_count": 22,
     "metadata": {},
     "output_type": "execute_result"
    }
   ],
   "source": [
    "X"
   ]
  },
  {
   "cell_type": "code",
   "execution_count": 23,
   "id": "8fd62d8d",
   "metadata": {},
   "outputs": [
    {
     "data": {
      "text/plain": [
       "array([[135.],\n",
       "       [205.],\n",
       "       [241.],\n",
       "       ...,\n",
       "       [205.],\n",
       "       [205.],\n",
       "       [185.]])"
      ]
     },
     "execution_count": 23,
     "metadata": {},
     "output_type": "execute_result"
    }
   ],
   "source": [
    "y"
   ]
  },
  {
   "cell_type": "code",
   "execution_count": 24,
   "id": "3b4f930c",
   "metadata": {},
   "outputs": [],
   "source": [
    "# Split data into a training set and a test set.\n",
    "\n",
    "X_train, X_test, y_train, y_test = train_test_split(X, y, test_size=0.3, random_state=0)"
   ]
  },
  {
   "cell_type": "markdown",
   "id": "d9c208d2",
   "metadata": {},
   "source": [
    "### 4. Regression analysis"
   ]
  },
  {
   "cell_type": "code",
   "execution_count": 25,
   "id": "400f502b",
   "metadata": {},
   "outputs": [],
   "source": [
    "# Create a regression object.\n",
    "\n",
    "regression = LinearRegression()  # This is the regression object, which will be fit onto the training set."
   ]
  },
  {
   "cell_type": "code",
   "execution_count": 26,
   "id": "a637d7ab",
   "metadata": {},
   "outputs": [
    {
     "data": {
      "text/html": [
       "<style>#sk-container-id-1 {color: black;}#sk-container-id-1 pre{padding: 0;}#sk-container-id-1 div.sk-toggleable {background-color: white;}#sk-container-id-1 label.sk-toggleable__label {cursor: pointer;display: block;width: 100%;margin-bottom: 0;padding: 0.3em;box-sizing: border-box;text-align: center;}#sk-container-id-1 label.sk-toggleable__label-arrow:before {content: \"▸\";float: left;margin-right: 0.25em;color: #696969;}#sk-container-id-1 label.sk-toggleable__label-arrow:hover:before {color: black;}#sk-container-id-1 div.sk-estimator:hover label.sk-toggleable__label-arrow:before {color: black;}#sk-container-id-1 div.sk-toggleable__content {max-height: 0;max-width: 0;overflow: hidden;text-align: left;background-color: #f0f8ff;}#sk-container-id-1 div.sk-toggleable__content pre {margin: 0.2em;color: black;border-radius: 0.25em;background-color: #f0f8ff;}#sk-container-id-1 input.sk-toggleable__control:checked~div.sk-toggleable__content {max-height: 200px;max-width: 100%;overflow: auto;}#sk-container-id-1 input.sk-toggleable__control:checked~label.sk-toggleable__label-arrow:before {content: \"▾\";}#sk-container-id-1 div.sk-estimator input.sk-toggleable__control:checked~label.sk-toggleable__label {background-color: #d4ebff;}#sk-container-id-1 div.sk-label input.sk-toggleable__control:checked~label.sk-toggleable__label {background-color: #d4ebff;}#sk-container-id-1 input.sk-hidden--visually {border: 0;clip: rect(1px 1px 1px 1px);clip: rect(1px, 1px, 1px, 1px);height: 1px;margin: -1px;overflow: hidden;padding: 0;position: absolute;width: 1px;}#sk-container-id-1 div.sk-estimator {font-family: monospace;background-color: #f0f8ff;border: 1px dotted black;border-radius: 0.25em;box-sizing: border-box;margin-bottom: 0.5em;}#sk-container-id-1 div.sk-estimator:hover {background-color: #d4ebff;}#sk-container-id-1 div.sk-parallel-item::after {content: \"\";width: 100%;border-bottom: 1px solid gray;flex-grow: 1;}#sk-container-id-1 div.sk-label:hover label.sk-toggleable__label {background-color: #d4ebff;}#sk-container-id-1 div.sk-serial::before {content: \"\";position: absolute;border-left: 1px solid gray;box-sizing: border-box;top: 0;bottom: 0;left: 50%;z-index: 0;}#sk-container-id-1 div.sk-serial {display: flex;flex-direction: column;align-items: center;background-color: white;padding-right: 0.2em;padding-left: 0.2em;position: relative;}#sk-container-id-1 div.sk-item {position: relative;z-index: 1;}#sk-container-id-1 div.sk-parallel {display: flex;align-items: stretch;justify-content: center;background-color: white;position: relative;}#sk-container-id-1 div.sk-item::before, #sk-container-id-1 div.sk-parallel-item::before {content: \"\";position: absolute;border-left: 1px solid gray;box-sizing: border-box;top: 0;bottom: 0;left: 50%;z-index: -1;}#sk-container-id-1 div.sk-parallel-item {display: flex;flex-direction: column;z-index: 1;position: relative;background-color: white;}#sk-container-id-1 div.sk-parallel-item:first-child::after {align-self: flex-end;width: 50%;}#sk-container-id-1 div.sk-parallel-item:last-child::after {align-self: flex-start;width: 50%;}#sk-container-id-1 div.sk-parallel-item:only-child::after {width: 0;}#sk-container-id-1 div.sk-dashed-wrapped {border: 1px dashed gray;margin: 0 0.4em 0.5em 0.4em;box-sizing: border-box;padding-bottom: 0.4em;background-color: white;}#sk-container-id-1 div.sk-label label {font-family: monospace;font-weight: bold;display: inline-block;line-height: 1.2em;}#sk-container-id-1 div.sk-label-container {text-align: center;}#sk-container-id-1 div.sk-container {/* jupyter's `normalize.less` sets `[hidden] { display: none; }` but bootstrap.min.css set `[hidden] { display: none !important; }` so we also need the `!important` here to be able to override the default hidden behavior on the sphinx rendered scikit-learn.org. See: https://github.com/scikit-learn/scikit-learn/issues/21755 */display: inline-block !important;position: relative;}#sk-container-id-1 div.sk-text-repr-fallback {display: none;}</style><div id=\"sk-container-id-1\" class=\"sk-top-container\"><div class=\"sk-text-repr-fallback\"><pre>LinearRegression()</pre><b>In a Jupyter environment, please rerun this cell to show the HTML representation or trust the notebook. <br />On GitHub, the HTML representation is unable to render, please try loading this page with nbviewer.org.</b></div><div class=\"sk-container\" hidden><div class=\"sk-item\"><div class=\"sk-estimator sk-toggleable\"><input class=\"sk-toggleable__control sk-hidden--visually\" id=\"sk-estimator-id-1\" type=\"checkbox\" checked><label for=\"sk-estimator-id-1\" class=\"sk-toggleable__label sk-toggleable__label-arrow\">LinearRegression</label><div class=\"sk-toggleable__content\"><pre>LinearRegression()</pre></div></div></div></div></div>"
      ],
      "text/plain": [
       "LinearRegression()"
      ]
     },
     "execution_count": 26,
     "metadata": {},
     "output_type": "execute_result"
    }
   ],
   "source": [
    "# Fit the regression object onto the training set.\n",
    "\n",
    "regression.fit(X_train, y_train)"
   ]
  },
  {
   "cell_type": "code",
   "execution_count": 27,
   "id": "0218d066",
   "metadata": {},
   "outputs": [],
   "source": [
    "# Predict the values of y using X.\n",
    "\n",
    "y_predicted = regression.predict(X_test)"
   ]
  },
  {
   "cell_type": "code",
   "execution_count": 28,
   "id": "04ee11f4",
   "metadata": {
    "scrolled": true
   },
   "outputs": [
    {
     "data": {
      "image/png": "[encoded data removed]",
      "text/plain": [
       "<Figure size 640x480 with 1 Axes>"
      ]
     },
     "metadata": {},
     "output_type": "display_data"
    }
   ],
   "source": [
    "# Create a plot that shows the regression line from the model on the test set.\n",
    "\n",
    "plot_test = plt\n",
    "plot_test.scatter(X_test, y_test, color='gray', s = 15)\n",
    "plot_test.plot(X_test, y_predicted, color='red', linewidth =3)\n",
    "plot_test.title('b_wins vs b_weight_lb')\n",
    "plot_test.xlabel('b_wins')\n",
    "plot_test.ylabel('b_weight_lb')\n",
    "plot_test.show()"
   ]
  },
  {
   "cell_type": "markdown",
   "id": "9ece7396",
   "metadata": {},
   "source": [
    "#### 5.The line seems to prove my hypothesis correct as the heavier the b fighter is (over 160), the more wins they have. "
   ]
  },
  {
   "cell_type": "code",
   "execution_count": 29,
   "id": "6a9b80f3",
   "metadata": {},
   "outputs": [],
   "source": [
    "# Create objects that contain the model summary statistics.\n",
    "\n",
    "rmse = mean_squared_error(y_test, y_predicted) # This is the mean squared error\n",
    "r2 = r2_score(y_test, y_predicted) # This is the R2 score. "
   ]
  },
  {
   "cell_type": "code",
   "execution_count": 30,
   "id": "618a1edb",
   "metadata": {},
   "outputs": [
    {
     "name": "stdout",
     "output_type": "stream",
     "text": [
      "Slope: [[1.32037801]]\n",
      "Mean squared error:  1115.8219723031702\n",
      "R2 score:  0.010497409106324018\n"
     ]
    }
   ],
   "source": [
    "# Print the model summary statistics. This is where you evaluate the performance of the model.\n",
    "\n",
    "print('Slope:' ,regression.coef_)\n",
    "print('Mean squared error: ', rmse)\n",
    "print('R2 score: ', r2)"
   ]
  },
  {
   "cell_type": "code",
   "execution_count": 31,
   "id": "23103a28",
   "metadata": {},
   "outputs": [
    {
     "data": {
      "text/plain": [
       "array([[163.3351496 ],\n",
       "       [163.3351496 ],\n",
       "       [168.61666164],\n",
       "       ...,\n",
       "       [165.97590562],\n",
       "       [163.3351496 ],\n",
       "       [167.29628363]])"
      ]
     },
     "execution_count": 31,
     "metadata": {},
     "output_type": "execute_result"
    }
   ],
   "source": [
    "y_predicted"
   ]
  },
  {
   "cell_type": "code",
   "execution_count": 32,
   "id": "5aa010f7",
   "metadata": {},
   "outputs": [
    {
     "data": {
      "text/html": [
       "<div>\n",
       "<style scoped>\n",
       "    .dataframe tbody tr th:only-of-type {\n",
       "        vertical-align: middle;\n",
       "    }\n",
       "\n",
       "    .dataframe tbody tr th {\n",
       "        vertical-align: top;\n",
       "    }\n",
       "\n",
       "    .dataframe thead th {\n",
       "        text-align: right;\n",
       "    }\n",
       "</style>\n",
       "<table border=\"1\" class=\"dataframe\">\n",
       "  <thead>\n",
       "    <tr style=\"text-align: right;\">\n",
       "      <th></th>\n",
       "      <th>Actual</th>\n",
       "      <th>Predicted</th>\n",
       "    </tr>\n",
       "  </thead>\n",
       "  <tbody>\n",
       "    <tr>\n",
       "      <th>0</th>\n",
       "      <td>170.0</td>\n",
       "      <td>163.335150</td>\n",
       "    </tr>\n",
       "    <tr>\n",
       "      <th>1</th>\n",
       "      <td>135.0</td>\n",
       "      <td>163.335150</td>\n",
       "    </tr>\n",
       "    <tr>\n",
       "      <th>2</th>\n",
       "      <td>170.0</td>\n",
       "      <td>168.616662</td>\n",
       "    </tr>\n",
       "    <tr>\n",
       "      <th>3</th>\n",
       "      <td>185.0</td>\n",
       "      <td>168.616662</td>\n",
       "    </tr>\n",
       "    <tr>\n",
       "      <th>4</th>\n",
       "      <td>145.0</td>\n",
       "      <td>163.335150</td>\n",
       "    </tr>\n",
       "    <tr>\n",
       "      <th>5</th>\n",
       "      <td>125.0</td>\n",
       "      <td>165.975906</td>\n",
       "    </tr>\n",
       "    <tr>\n",
       "      <th>6</th>\n",
       "      <td>185.0</td>\n",
       "      <td>163.335150</td>\n",
       "    </tr>\n",
       "    <tr>\n",
       "      <th>7</th>\n",
       "      <td>170.0</td>\n",
       "      <td>167.296284</td>\n",
       "    </tr>\n",
       "    <tr>\n",
       "      <th>8</th>\n",
       "      <td>205.0</td>\n",
       "      <td>163.335150</td>\n",
       "    </tr>\n",
       "    <tr>\n",
       "      <th>9</th>\n",
       "      <td>205.0</td>\n",
       "      <td>164.655528</td>\n",
       "    </tr>\n",
       "    <tr>\n",
       "      <th>10</th>\n",
       "      <td>155.0</td>\n",
       "      <td>164.655528</td>\n",
       "    </tr>\n",
       "    <tr>\n",
       "      <th>11</th>\n",
       "      <td>155.0</td>\n",
       "      <td>164.655528</td>\n",
       "    </tr>\n",
       "    <tr>\n",
       "      <th>12</th>\n",
       "      <td>125.0</td>\n",
       "      <td>164.655528</td>\n",
       "    </tr>\n",
       "    <tr>\n",
       "      <th>13</th>\n",
       "      <td>115.0</td>\n",
       "      <td>163.335150</td>\n",
       "    </tr>\n",
       "    <tr>\n",
       "      <th>14</th>\n",
       "      <td>155.0</td>\n",
       "      <td>175.218552</td>\n",
       "    </tr>\n",
       "    <tr>\n",
       "      <th>15</th>\n",
       "      <td>238.0</td>\n",
       "      <td>171.257418</td>\n",
       "    </tr>\n",
       "    <tr>\n",
       "      <th>16</th>\n",
       "      <td>265.0</td>\n",
       "      <td>168.616662</td>\n",
       "    </tr>\n",
       "    <tr>\n",
       "      <th>17</th>\n",
       "      <td>155.0</td>\n",
       "      <td>165.975906</td>\n",
       "    </tr>\n",
       "    <tr>\n",
       "      <th>18</th>\n",
       "      <td>170.0</td>\n",
       "      <td>168.616662</td>\n",
       "    </tr>\n",
       "    <tr>\n",
       "      <th>19</th>\n",
       "      <td>145.0</td>\n",
       "      <td>164.655528</td>\n",
       "    </tr>\n",
       "    <tr>\n",
       "      <th>20</th>\n",
       "      <td>185.0</td>\n",
       "      <td>176.538930</td>\n",
       "    </tr>\n",
       "    <tr>\n",
       "      <th>21</th>\n",
       "      <td>125.0</td>\n",
       "      <td>167.296284</td>\n",
       "    </tr>\n",
       "    <tr>\n",
       "      <th>22</th>\n",
       "      <td>205.0</td>\n",
       "      <td>168.616662</td>\n",
       "    </tr>\n",
       "    <tr>\n",
       "      <th>23</th>\n",
       "      <td>205.0</td>\n",
       "      <td>171.257418</td>\n",
       "    </tr>\n",
       "    <tr>\n",
       "      <th>24</th>\n",
       "      <td>170.0</td>\n",
       "      <td>177.859308</td>\n",
       "    </tr>\n",
       "    <tr>\n",
       "      <th>25</th>\n",
       "      <td>125.0</td>\n",
       "      <td>167.296284</td>\n",
       "    </tr>\n",
       "    <tr>\n",
       "      <th>26</th>\n",
       "      <td>145.0</td>\n",
       "      <td>165.975906</td>\n",
       "    </tr>\n",
       "    <tr>\n",
       "      <th>27</th>\n",
       "      <td>242.0</td>\n",
       "      <td>164.655528</td>\n",
       "    </tr>\n",
       "    <tr>\n",
       "      <th>28</th>\n",
       "      <td>155.0</td>\n",
       "      <td>165.975906</td>\n",
       "    </tr>\n",
       "    <tr>\n",
       "      <th>29</th>\n",
       "      <td>135.0</td>\n",
       "      <td>165.975906</td>\n",
       "    </tr>\n",
       "  </tbody>\n",
       "</table>\n",
       "</div>"
      ],
      "text/plain": [
       "    Actual   Predicted\n",
       "0    170.0  163.335150\n",
       "1    135.0  163.335150\n",
       "2    170.0  168.616662\n",
       "3    185.0  168.616662\n",
       "4    145.0  163.335150\n",
       "5    125.0  165.975906\n",
       "6    185.0  163.335150\n",
       "7    170.0  167.296284\n",
       "8    205.0  163.335150\n",
       "9    205.0  164.655528\n",
       "10   155.0  164.655528\n",
       "11   155.0  164.655528\n",
       "12   125.0  164.655528\n",
       "13   115.0  163.335150\n",
       "14   155.0  175.218552\n",
       "15   238.0  171.257418\n",
       "16   265.0  168.616662\n",
       "17   155.0  165.975906\n",
       "18   170.0  168.616662\n",
       "19   145.0  164.655528\n",
       "20   185.0  176.538930\n",
       "21   125.0  167.296284\n",
       "22   205.0  168.616662\n",
       "23   205.0  171.257418\n",
       "24   170.0  177.859308\n",
       "25   125.0  167.296284\n",
       "26   145.0  165.975906\n",
       "27   242.0  164.655528\n",
       "28   155.0  165.975906\n",
       "29   135.0  165.975906"
      ]
     },
     "execution_count": 32,
     "metadata": {},
     "output_type": "execute_result"
    }
   ],
   "source": [
    "# Create a dataframe comparing the actual and predicted values of y.\n",
    "\n",
    "data = pd.DataFrame({'Actual': y_test.flatten(), 'Predicted': y_predicted.flatten()})\n",
    "data.head(30)"
   ]
  },
  {
   "cell_type": "code",
   "execution_count": 33,
   "id": "927b4da0",
   "metadata": {},
   "outputs": [],
   "source": [
    "##### 12. The Actual and Predicted y values have a differential of being 30-45 lbs off from one another while there are some that are pretty close. "
   ]
  },
  {
   "cell_type": "markdown",
   "id": "cc5613b0",
   "metadata": {},
   "source": [
    "##### Compare how the regression fits the training set"
   ]
  },
  {
   "cell_type": "code",
   "execution_count": 34,
   "id": "2a70b5bd",
   "metadata": {},
   "outputs": [],
   "source": [
    "# Predict.\n",
    "\n",
    "y_predicted_train = regression.predict(X_train) # This is predicting X_train!"
   ]
  },
  {
   "cell_type": "code",
   "execution_count": 35,
   "id": "6b86e291",
   "metadata": {},
   "outputs": [],
   "source": [
    "rmse = mean_squared_error(y_train, y_predicted_train)\n",
    "r2 = r2_score(y_train, y_predicted_train)"
   ]
  },
  {
   "cell_type": "code",
   "execution_count": 36,
   "id": "8219b2e7",
   "metadata": {},
   "outputs": [
    {
     "name": "stdout",
     "output_type": "stream",
     "text": [
      "Slope: [[1.32037801]]\n",
      "Mean squared error:  1160.373702865047\n",
      "R2 score:  0.017760455017481913\n"
     ]
    }
   ],
   "source": [
    "print('Slope:' ,regression.coef_)\n",
    "print('Mean squared error: ', rmse)\n",
    "print('R2 score: ', r2)"
   ]
  },
  {
   "cell_type": "code",
   "execution_count": 37,
   "id": "f7c2f085",
   "metadata": {},
   "outputs": [
    {
     "data": {
      "image/png": "[encoded data removed]",
      "text/plain": [
       "<Figure size 640x480 with 1 Axes>"
      ]
     },
     "metadata": {},
     "output_type": "display_data"
    }
   ],
   "source": [
    "# Visualizing the training set results.\n",
    "\n",
    "plot_test = plt\n",
    "plot_test.scatter(X_train, y_train, color='green', s = 15)\n",
    "plot_test.plot(X_train, y_predicted_train, color='red', linewidth =3)\n",
    "plot_test.title('b_wins vs b_weight_lb(train set)')\n",
    "plot_test.xlabel('b_wins')\n",
    "plot_test.ylabel('b_weight_lb')\n",
    "plot_test.show()"
   ]
  },
  {
   "cell_type": "markdown",
   "id": "4352733a",
   "metadata": {},
   "source": [
    "##### 10. This line appears to have a positive regression meaning fighters over 160 lbs have a higher chance of winning their fights. A lot of plots are around the line even thought a huge amount is clustered in the 240 lbs to 260lbs region.  Possible bias could have been weight and wins reported incorrectly both by officials and the data gatherers for this data set. But being this info is offical from the UFC site and it is a profesisonalized sport, I would these numbers are accurate (reasoning for keeping the outliers)."
   ]
  },
  {
   "cell_type": "code",
   "execution_count": 38,
   "id": "f06a07a5",
   "metadata": {},
   "outputs": [],
   "source": [
    "# Reshape the variables into NumPy arrays and put them into separate objects.\n",
    "\n",
    "X2 = df_UFC['r_wins'].values.reshape(-1,1)\n",
    "y2 = df_UFC['r_height_cms'].values.reshape(-1,1)"
   ]
  },
  {
   "cell_type": "code",
   "execution_count": 39,
   "id": "df003f38",
   "metadata": {},
   "outputs": [
    {
     "data": {
      "text/plain": [
       "array([[1],\n",
       "       [4],\n",
       "       [4],\n",
       "       ...,\n",
       "       [0],\n",
       "       [4],\n",
       "       [2]], dtype=int64)"
      ]
     },
     "execution_count": 39,
     "metadata": {},
     "output_type": "execute_result"
    }
   ],
   "source": [
    "X2"
   ]
  },
  {
   "cell_type": "code",
   "execution_count": 40,
   "id": "a7c1338a",
   "metadata": {},
   "outputs": [
    {
     "data": {
      "text/plain": [
       "array([[170.18],\n",
       "       [182.88],\n",
       "       [187.96],\n",
       "       ...,\n",
       "       [185.42],\n",
       "       [182.88],\n",
       "       [185.42]])"
      ]
     },
     "execution_count": 40,
     "metadata": {},
     "output_type": "execute_result"
    }
   ],
   "source": [
    "y2"
   ]
  },
  {
   "cell_type": "code",
   "execution_count": 41,
   "id": "b8cabdb8",
   "metadata": {},
   "outputs": [],
   "source": [
    "# Split data into a training set and a test set.\n",
    "\n",
    "X2_train, X2_test, y2_train, y2_test = train_test_split(X2, y2, test_size=0.3, random_state=0)"
   ]
  },
  {
   "cell_type": "code",
   "execution_count": 45,
   "id": "7f4a223c",
   "metadata": {},
   "outputs": [],
   "source": [
    "\n",
    "y2_predicted_train = regression.predict(X2_train) # This is predicting X_train!"
   ]
  },
  {
   "cell_type": "code",
   "execution_count": 46,
   "id": "4699de3c",
   "metadata": {},
   "outputs": [
    {
     "data": {
      "image/png": "[encoded data removed]",
      "text/plain": [
       "<Figure size 640x480 with 1 Axes>"
      ]
     },
     "metadata": {},
     "output_type": "display_data"
    }
   ],
   "source": [
    "# Visualizing the training set results.\n",
    "\n",
    "plot_test = plt\n",
    "plot_test.scatter(X2_train, y2_train, color='green', s = 15)\n",
    "plot_test.plot(X2_train, y2_predicted_train, color='red', linewidth =3)\n",
    "plot_test.title('r_wins vs r_height_cms(train set)')\n",
    "plot_test.xlabel('r_wins')\n",
    "plot_test.ylabel('r_height_cms')\n",
    "plot_test.show()"
   ]
  },
  {
   "cell_type": "code",
   "execution_count": null,
   "id": "08ee1b42",
   "metadata": {},
   "outputs": [],
   "source": []
  }
 ],
 "metadata": {
  "kernelspec": {
   "display_name": "Python 3 (ipykernel)",
   "language": "python",
   "name": "python3"
  },
  "language_info": {
   "codemirror_mode": {
    "name": "ipython",
    "version": 3
   },
   "file_extension": ".py",
   "mimetype": "text/x-python",
   "name": "python",
   "nbconvert_exporter": "python",
   "pygments_lexer": "ipython3",
   "version": "3.11.5"
  }
 },
 "nbformat": 4,
 "nbformat_minor": 5
}
